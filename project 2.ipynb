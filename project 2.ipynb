{
 "cells": [
  {
   "cell_type": "code",
   "execution_count": 1,
   "id": "feea4b40",
   "metadata": {},
   "outputs": [],
   "source": [
    "import pandas as pd\n",
    "from sklearn.model_selection import train_test_split\n",
    "from sklearn.feature_extraction.text import CountVectorizer\n",
    "from sklearn.naive_bayes import MultinomialNB\n",
    "from sklearn.metrics import classification_report, accuracy_score"
   ]
  },
  {
   "cell_type": "code",
   "execution_count": 3,
   "id": "028e4aa2",
   "metadata": {},
   "outputs": [],
   "source": [
    "data = {\n",
    "    'text': [\n",
    "        'I love this phone!',\n",
    "        'This product is terrible.',\n",
    "        'It is okay, not the best.',\n",
    "        'Absolutely amazing experience.',\n",
    "        'Worst purchase I ever made.',\n",
    "        'Pretty decent overall.',\n",
    "        'I am very happy with this.',\n",
    "        'Completely useless and bad.',\n",
    "        'Not good, not bad, just average.',\n",
    "        'Great value for the money!',\n",
    "        'I haven’t used it much yet.',\n",
    "        'It’s neither good nor bad',\n",
    "        'This is an average experience.',\n",
    "        'I hate you and I do not like you',\n",
    "        'I love you and I like you'\n",
    "    ],\n",
    "    'sentiment': [\n",
    "        'positive', 'negative', 'neutral', 'positive', 'negative','neutral', 'positive', 'negative', 'neutral', 'positive','neutral','neutral','neutral','negative','positive'\n",
    "    ]\n",
    "}"
   ]
  },
  {
   "cell_type": "code",
   "execution_count": 4,
   "id": "1d54c208",
   "metadata": {},
   "outputs": [],
   "source": [
    "df = pd.DataFrame(data)"
   ]
  },
  {
   "cell_type": "code",
   "execution_count": 5,
   "id": "3229ed73",
   "metadata": {},
   "outputs": [],
   "source": [
    "X_train, X_test, y_train, y_test = train_test_split(df['text'], df['sentiment'], test_size=0.3, random_state=42)"
   ]
  },
  {
   "cell_type": "code",
   "execution_count": 6,
   "id": "de7b6778",
   "metadata": {},
   "outputs": [],
   "source": [
    "vectorizer = CountVectorizer()\n",
    "X_train_vec = vectorizer.fit_transform(X_train)\n",
    "X_test_vec = vectorizer.transform(X_test)"
   ]
  },
  {
   "cell_type": "code",
   "execution_count": 7,
   "id": "b8661ca6",
   "metadata": {},
   "outputs": [
    {
     "data": {
      "text/html": [
       "<style>#sk-container-id-1 {color: black;}#sk-container-id-1 pre{padding: 0;}#sk-container-id-1 div.sk-toggleable {background-color: white;}#sk-container-id-1 label.sk-toggleable__label {cursor: pointer;display: block;width: 100%;margin-bottom: 0;padding: 0.3em;box-sizing: border-box;text-align: center;}#sk-container-id-1 label.sk-toggleable__label-arrow:before {content: \"▸\";float: left;margin-right: 0.25em;color: #696969;}#sk-container-id-1 label.sk-toggleable__label-arrow:hover:before {color: black;}#sk-container-id-1 div.sk-estimator:hover label.sk-toggleable__label-arrow:before {color: black;}#sk-container-id-1 div.sk-toggleable__content {max-height: 0;max-width: 0;overflow: hidden;text-align: left;background-color: #f0f8ff;}#sk-container-id-1 div.sk-toggleable__content pre {margin: 0.2em;color: black;border-radius: 0.25em;background-color: #f0f8ff;}#sk-container-id-1 input.sk-toggleable__control:checked~div.sk-toggleable__content {max-height: 200px;max-width: 100%;overflow: auto;}#sk-container-id-1 input.sk-toggleable__control:checked~label.sk-toggleable__label-arrow:before {content: \"▾\";}#sk-container-id-1 div.sk-estimator input.sk-toggleable__control:checked~label.sk-toggleable__label {background-color: #d4ebff;}#sk-container-id-1 div.sk-label input.sk-toggleable__control:checked~label.sk-toggleable__label {background-color: #d4ebff;}#sk-container-id-1 input.sk-hidden--visually {border: 0;clip: rect(1px 1px 1px 1px);clip: rect(1px, 1px, 1px, 1px);height: 1px;margin: -1px;overflow: hidden;padding: 0;position: absolute;width: 1px;}#sk-container-id-1 div.sk-estimator {font-family: monospace;background-color: #f0f8ff;border: 1px dotted black;border-radius: 0.25em;box-sizing: border-box;margin-bottom: 0.5em;}#sk-container-id-1 div.sk-estimator:hover {background-color: #d4ebff;}#sk-container-id-1 div.sk-parallel-item::after {content: \"\";width: 100%;border-bottom: 1px solid gray;flex-grow: 1;}#sk-container-id-1 div.sk-label:hover label.sk-toggleable__label {background-color: #d4ebff;}#sk-container-id-1 div.sk-serial::before {content: \"\";position: absolute;border-left: 1px solid gray;box-sizing: border-box;top: 0;bottom: 0;left: 50%;z-index: 0;}#sk-container-id-1 div.sk-serial {display: flex;flex-direction: column;align-items: center;background-color: white;padding-right: 0.2em;padding-left: 0.2em;position: relative;}#sk-container-id-1 div.sk-item {position: relative;z-index: 1;}#sk-container-id-1 div.sk-parallel {display: flex;align-items: stretch;justify-content: center;background-color: white;position: relative;}#sk-container-id-1 div.sk-item::before, #sk-container-id-1 div.sk-parallel-item::before {content: \"\";position: absolute;border-left: 1px solid gray;box-sizing: border-box;top: 0;bottom: 0;left: 50%;z-index: -1;}#sk-container-id-1 div.sk-parallel-item {display: flex;flex-direction: column;z-index: 1;position: relative;background-color: white;}#sk-container-id-1 div.sk-parallel-item:first-child::after {align-self: flex-end;width: 50%;}#sk-container-id-1 div.sk-parallel-item:last-child::after {align-self: flex-start;width: 50%;}#sk-container-id-1 div.sk-parallel-item:only-child::after {width: 0;}#sk-container-id-1 div.sk-dashed-wrapped {border: 1px dashed gray;margin: 0 0.4em 0.5em 0.4em;box-sizing: border-box;padding-bottom: 0.4em;background-color: white;}#sk-container-id-1 div.sk-label label {font-family: monospace;font-weight: bold;display: inline-block;line-height: 1.2em;}#sk-container-id-1 div.sk-label-container {text-align: center;}#sk-container-id-1 div.sk-container {/* jupyter's `normalize.less` sets `[hidden] { display: none; }` but bootstrap.min.css set `[hidden] { display: none !important; }` so we also need the `!important` here to be able to override the default hidden behavior on the sphinx rendered scikit-learn.org. See: https://github.com/scikit-learn/scikit-learn/issues/21755 */display: inline-block !important;position: relative;}#sk-container-id-1 div.sk-text-repr-fallback {display: none;}</style><div id=\"sk-container-id-1\" class=\"sk-top-container\"><div class=\"sk-text-repr-fallback\"><pre>MultinomialNB()</pre><b>In a Jupyter environment, please rerun this cell to show the HTML representation or trust the notebook. <br />On GitHub, the HTML representation is unable to render, please try loading this page with nbviewer.org.</b></div><div class=\"sk-container\" hidden><div class=\"sk-item\"><div class=\"sk-estimator sk-toggleable\"><input class=\"sk-toggleable__control sk-hidden--visually\" id=\"sk-estimator-id-1\" type=\"checkbox\" checked><label for=\"sk-estimator-id-1\" class=\"sk-toggleable__label sk-toggleable__label-arrow\">MultinomialNB</label><div class=\"sk-toggleable__content\"><pre>MultinomialNB()</pre></div></div></div></div></div>"
      ],
      "text/plain": [
       "MultinomialNB()"
      ]
     },
     "execution_count": 7,
     "metadata": {},
     "output_type": "execute_result"
    }
   ],
   "source": [
    "model = MultinomialNB()\n",
    "model.fit(X_train_vec, y_train)"
   ]
  },
  {
   "cell_type": "code",
   "execution_count": 8,
   "id": "3b31022b",
   "metadata": {},
   "outputs": [],
   "source": [
    "y_pred = model.predict(X_test_vec)"
   ]
  },
  {
   "cell_type": "code",
   "execution_count": 9,
   "id": "b7b46288",
   "metadata": {},
   "outputs": [
    {
     "name": "stdout",
     "output_type": "stream",
     "text": [
      "Classification Report:\n",
      "\n",
      "              precision    recall  f1-score   support\n",
      "\n",
      "    negative       0.00      0.00      0.00         1\n",
      "     neutral       0.67      1.00      0.80         2\n",
      "    positive       0.50      0.50      0.50         2\n",
      "\n",
      "    accuracy                           0.60         5\n",
      "   macro avg       0.39      0.50      0.43         5\n",
      "weighted avg       0.47      0.60      0.52         5\n",
      "\n"
     ]
    },
    {
     "name": "stderr",
     "output_type": "stream",
     "text": [
      "C:\\Users\\mudad\\anaconda3\\Lib\\site-packages\\sklearn\\metrics\\_classification.py:1469: UndefinedMetricWarning: Precision and F-score are ill-defined and being set to 0.0 in labels with no predicted samples. Use `zero_division` parameter to control this behavior.\n",
      "  _warn_prf(average, modifier, msg_start, len(result))\n",
      "C:\\Users\\mudad\\anaconda3\\Lib\\site-packages\\sklearn\\metrics\\_classification.py:1469: UndefinedMetricWarning: Precision and F-score are ill-defined and being set to 0.0 in labels with no predicted samples. Use `zero_division` parameter to control this behavior.\n",
      "  _warn_prf(average, modifier, msg_start, len(result))\n",
      "C:\\Users\\mudad\\anaconda3\\Lib\\site-packages\\sklearn\\metrics\\_classification.py:1469: UndefinedMetricWarning: Precision and F-score are ill-defined and being set to 0.0 in labels with no predicted samples. Use `zero_division` parameter to control this behavior.\n",
      "  _warn_prf(average, modifier, msg_start, len(result))\n"
     ]
    }
   ],
   "source": [
    "print(\"Classification Report:\\n\")\n",
    "print(classification_report(y_test, y_pred))"
   ]
  },
  {
   "cell_type": "code",
   "execution_count": 10,
   "id": "6d01d8d8",
   "metadata": {},
   "outputs": [
    {
     "name": "stdout",
     "output_type": "stream",
     "text": [
      "Accuracy Score: 0.6\n"
     ]
    }
   ],
   "source": [
    "print(\"Accuracy Score:\", accuracy_score(y_test, y_pred))"
   ]
  },
  {
   "cell_type": "code",
   "execution_count": 11,
   "id": "32445265",
   "metadata": {},
   "outputs": [],
   "source": [
    "custom_input = [\"It is ok,but not the best\"]\n",
    "custom_vec = vectorizer.transform(custom_input)\n",
    "custom_pred = model.predict(custom_vec)"
   ]
  },
  {
   "cell_type": "code",
   "execution_count": 12,
   "id": "2774ca6f",
   "metadata": {},
   "outputs": [
    {
     "name": "stdout",
     "output_type": "stream",
     "text": [
      "\n",
      "Custom Predictions:\n",
      "Text: It is ok,but not the best --> Predicted Sentiment: neutral\n"
     ]
    }
   ],
   "source": [
    "print(\"\\nCustom Predictions:\")\n",
    "for text, sentiment in zip(custom_input, custom_pred):\n",
    "    print(f\"Text: {text} --> Predicted Sentiment: {sentiment}\")"
   ]
  },
  {
   "cell_type": "code",
   "execution_count": 13,
   "id": "d7a3171b",
   "metadata": {},
   "outputs": [],
   "source": [
    "custom_input = [\"you are worst person\"]\n",
    "custom_vec = vectorizer.transform(custom_input)\n",
    "custom_pred = model.predict(custom_vec)"
   ]
  },
  {
   "cell_type": "code",
   "execution_count": 14,
   "id": "19040e25",
   "metadata": {},
   "outputs": [
    {
     "name": "stdout",
     "output_type": "stream",
     "text": [
      "\n",
      "Custom Predictions:\n",
      "Text: you are worst person --> Predicted Sentiment: positive\n"
     ]
    }
   ],
   "source": [
    "print(\"\\nCustom Predictions:\")\n",
    "for text, sentiment in zip(custom_input, custom_pred):\n",
    "    print(f\"Text: {text} --> Predicted Sentiment: {sentiment}\")"
   ]
  },
  {
   "cell_type": "code",
   "execution_count": 15,
   "id": "352c9d4b",
   "metadata": {},
   "outputs": [],
   "source": [
    "custom_input = [\"well done!\"]\n",
    "custom_vec = vectorizer.transform(custom_input)\n",
    "custom_pred = model.predict(custom_vec)"
   ]
  },
  {
   "cell_type": "code",
   "execution_count": 16,
   "id": "06ed74fc",
   "metadata": {},
   "outputs": [
    {
     "name": "stdout",
     "output_type": "stream",
     "text": [
      "\n",
      "Custom Predictions:\n",
      "Text: well done! --> Predicted Sentiment: neutral\n"
     ]
    }
   ],
   "source": [
    "print(\"\\nCustom Predictions:\")\n",
    "for text, sentiment in zip(custom_input, custom_pred):\n",
    "    print(f\"Text: {text} --> Predicted Sentiment: {sentiment}\")"
   ]
  },
  {
   "cell_type": "code",
   "execution_count": 17,
   "id": "b2a00d5d",
   "metadata": {},
   "outputs": [],
   "source": [
    "custom_input = [\"Keep it up!\"]\n",
    "custom_vec = vectorizer.transform(custom_input)\n",
    "custom_pred = model.predict(custom_vec)"
   ]
  },
  {
   "cell_type": "code",
   "execution_count": 18,
   "id": "9ae79c95",
   "metadata": {},
   "outputs": [
    {
     "name": "stdout",
     "output_type": "stream",
     "text": [
      "\n",
      "Custom Predictions:\n",
      "Text: Keep it up! --> Predicted Sentiment: neutral\n"
     ]
    }
   ],
   "source": [
    "print(\"\\nCustom Predictions:\")\n",
    "for text, sentiment in zip(custom_input, custom_pred):\n",
    "    print(f\"Text: {text} --> Predicted Sentiment: {sentiment}\")"
   ]
  },
  {
   "cell_type": "code",
   "execution_count": 19,
   "id": "a14fa0df",
   "metadata": {},
   "outputs": [],
   "source": [
    "custom_input = [\"you are cunning and bad person\"]\n",
    "custom_vec = vectorizer.transform(custom_input)\n",
    "custom_pred = model.predict(custom_vec)"
   ]
  },
  {
   "cell_type": "code",
   "execution_count": 20,
   "id": "93a4fb7d",
   "metadata": {},
   "outputs": [
    {
     "name": "stdout",
     "output_type": "stream",
     "text": [
      "\n",
      "Custom Predictions:\n",
      "Text: you are cunning and bad person --> Predicted Sentiment: positive\n"
     ]
    }
   ],
   "source": [
    "print(\"\\nCustom Predictions:\")\n",
    "for text, sentiment in zip(custom_input, custom_pred):\n",
    "    print(f\"Text: {text} --> Predicted Sentiment: {sentiment}\")"
   ]
  },
  {
   "cell_type": "code",
   "execution_count": 21,
   "id": "8e303892",
   "metadata": {},
   "outputs": [
    {
     "name": "stdout",
     "output_type": "stream",
     "text": [
      "\n",
      "Custom Predictions:\n",
      "Text: The product arrived on time. --> Predicted Sentiment: negative\n"
     ]
    }
   ],
   "source": [
    "custom_input = [\"The product arrived on time.\"]\n",
    "custom_vec = vectorizer.transform(custom_input)\n",
    "custom_pred = model.predict(custom_vec)\n",
    "print(\"\\nCustom Predictions:\")\n",
    "for text, sentiment in zip(custom_input, custom_pred):\n",
    "    print(f\"Text: {text} --> Predicted Sentiment: {sentiment}\")"
   ]
  },
  {
   "cell_type": "code",
   "execution_count": 22,
   "id": "27045be7",
   "metadata": {},
   "outputs": [
    {
     "name": "stdout",
     "output_type": "stream",
     "text": [
      "\n",
      "Custom Predictions:\n",
      "Text: It’s neither good nor bad,just better --> Predicted Sentiment: neutral\n"
     ]
    }
   ],
   "source": [
    "custom_input = [\"It’s neither good nor bad,just better\"]\n",
    "custom_vec = vectorizer.transform(custom_input)\n",
    "custom_pred = model.predict(custom_vec)\n",
    "print(\"\\nCustom Predictions:\")\n",
    "for text, sentiment in zip(custom_input, custom_pred):\n",
    "    print(f\"Text: {text} --> Predicted Sentiment: {sentiment}\")"
   ]
  },
  {
   "cell_type": "code",
   "execution_count": 23,
   "id": "bfe664dc",
   "metadata": {},
   "outputs": [
    {
     "name": "stdout",
     "output_type": "stream",
     "text": [
      "\n",
      "Custom Predictions:\n",
      "Text: It’s neither good nor bad,just better --> Predicted Sentiment: neutral\n"
     ]
    }
   ],
   "source": [
    "ustom_input = [\"I haven’t used it much yet.\"]\n",
    "custom_vec = vectorizer.transform(custom_input)\n",
    "custom_pred = model.predict(custom_vec)\n",
    "print(\"\\nCustom Predictions:\")\n",
    "for text, sentiment in zip(custom_input, custom_pred):\n",
    "    print(f\"Text: {text} --> Predicted Sentiment: {sentiment}\")"
   ]
  },
  {
   "cell_type": "code",
   "execution_count": 24,
   "id": "e2e7d773",
   "metadata": {},
   "outputs": [
    {
     "name": "stdout",
     "output_type": "stream",
     "text": [
      "\n",
      "Custom Predictions:\n",
      "Text: Not good, not bad, just average. --> Predicted Sentiment: neutral\n"
     ]
    }
   ],
   "source": [
    "custom_input = [\"Not good, not bad, just average.\"]\n",
    "custom_vec = vectorizer.transform(custom_input)\n",
    "custom_pred = model.predict(custom_vec)\n",
    "print(\"\\nCustom Predictions:\")\n",
    "for text, sentiment in zip(custom_input, custom_pred):\n",
    "    print(f\"Text: {text} --> Predicted Sentiment: {sentiment}\")"
   ]
  },
  {
   "cell_type": "code",
   "execution_count": 25,
   "id": "7e359255",
   "metadata": {},
   "outputs": [
    {
     "name": "stdout",
     "output_type": "stream",
     "text": [
      "\n",
      "Custom Predictions:\n",
      "Text: I hate you. --> Predicted Sentiment: positive\n"
     ]
    }
   ],
   "source": [
    "custom_input = [\"I hate you.\"]\n",
    "custom_vec = vectorizer.transform(custom_input)\n",
    "custom_pred = model.predict(custom_vec)\n",
    "print(\"\\nCustom Predictions:\")\n",
    "for text, sentiment in zip(custom_input, custom_pred):\n",
    "    print(f\"Text: {text} --> Predicted Sentiment: {sentiment}\")"
   ]
  },
  {
   "cell_type": "code",
   "execution_count": 26,
   "id": "789c95c3",
   "metadata": {},
   "outputs": [
    {
     "name": "stdout",
     "output_type": "stream",
     "text": [
      "\n",
      "Custom Predictions:\n",
      "Text: I don't like you. --> Predicted Sentiment: positive\n"
     ]
    }
   ],
   "source": [
    "custom_input = [\"I don't like you.\"]\n",
    "custom_vec = vectorizer.transform(custom_input)\n",
    "custom_pred = model.predict(custom_vec)\n",
    "print(\"\\nCustom Predictions:\")\n",
    "for text, sentiment in zip(custom_input, custom_pred):\n",
    "    print(f\"Text: {text} --> Predicted Sentiment: {sentiment}\")"
   ]
  },
  {
   "cell_type": "code",
   "execution_count": 27,
   "id": "76f5aefb",
   "metadata": {},
   "outputs": [
    {
     "name": "stdout",
     "output_type": "stream",
     "text": [
      "\n",
      "Custom Predictions:\n",
      "Text: I love you more --> Predicted Sentiment: positive\n"
     ]
    }
   ],
   "source": [
    "custom_input = [\"I love you more\"]\n",
    "custom_vec = vectorizer.transform(custom_input)\n",
    "custom_pred = model.predict(custom_vec)\n",
    "print(\"\\nCustom Predictions:\")\n",
    "for text, sentiment in zip(custom_input, custom_pred):\n",
    "    print(f\"Text: {text} --> Predicted Sentiment: {sentiment}\")"
   ]
  },
  {
   "cell_type": "code",
   "execution_count": 28,
   "id": "c9124ab5",
   "metadata": {},
   "outputs": [
    {
     "name": "stdout",
     "output_type": "stream",
     "text": [
      "\n",
      "Custom Predictions:\n",
      "Text: I like you --> Predicted Sentiment: positive\n"
     ]
    }
   ],
   "source": [
    "custom_input = [\"I like you\"]\n",
    "custom_vec = vectorizer.transform(custom_input)\n",
    "custom_pred = model.predict(custom_vec)\n",
    "print(\"\\nCustom Predictions:\")\n",
    "for text, sentiment in zip(custom_input, custom_pred):\n",
    "    print(f\"Text: {text} --> Predicted Sentiment: {sentiment}\")"
   ]
  },
  {
   "cell_type": "code",
   "execution_count": 29,
   "id": "006fa8f5",
   "metadata": {},
   "outputs": [
    {
     "name": "stdout",
     "output_type": "stream",
     "text": [
      "\n",
      "Custom Predictions:\n",
      "Text: not bad,not good its ok --> Predicted Sentiment: neutral\n"
     ]
    }
   ],
   "source": [
    "custom_input = [\"not bad,not good its ok\"]\n",
    "custom_vec = vectorizer.transform(custom_input)\n",
    "custom_pred = model.predict(custom_vec)\n",
    "print(\"\\nCustom Predictions:\")\n",
    "for text, sentiment in zip(custom_input, custom_pred):\n",
    "    print(f\"Text: {text} --> Predicted Sentiment: {sentiment}\")"
   ]
  },
  {
   "cell_type": "code",
   "execution_count": 30,
   "id": "bde967d4",
   "metadata": {},
   "outputs": [
    {
     "name": "stdout",
     "output_type": "stream",
     "text": [
      "\n",
      "Custom Predictions:\n",
      "Text: movie is terrible --> Predicted Sentiment: negative\n"
     ]
    }
   ],
   "source": [
    "custom_input = [\"movie is terrible\"]\n",
    "custom_vec = vectorizer.transform(custom_input)\n",
    "custom_pred = model.predict(custom_vec)\n",
    "print(\"\\nCustom Predictions:\")\n",
    "for text, sentiment in zip(custom_input, custom_pred):\n",
    "    print(f\"Text: {text} --> Predicted Sentiment: {sentiment}\")"
   ]
  },
  {
   "cell_type": "code",
   "execution_count": null,
   "id": "b006925a",
   "metadata": {},
   "outputs": [],
   "source": []
  }
 ],
 "metadata": {
  "kernelspec": {
   "display_name": "Python 3 (ipykernel)",
   "language": "python",
   "name": "python3"
  },
  "language_info": {
   "codemirror_mode": {
    "name": "ipython",
    "version": 3
   },
   "file_extension": ".py",
   "mimetype": "text/x-python",
   "name": "python",
   "nbconvert_exporter": "python",
   "pygments_lexer": "ipython3",
   "version": "3.11.5"
  }
 },
 "nbformat": 4,
 "nbformat_minor": 5
}
